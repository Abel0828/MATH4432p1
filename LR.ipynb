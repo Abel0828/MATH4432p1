{
 "cells": [
  {
   "cell_type": "code",
   "execution_count": 1,
   "metadata": {
    "collapsed": true
   },
   "outputs": [],
   "source": [
    "from sklearn.linear_model import LogisticRegression\n",
    "from main import plotData, readData, TRAIN_SET, TEST_SET\n",
    "import numpy as np"
   ]
  },
  {
   "cell_type": "code",
   "execution_count": 2,
   "metadata": {
    "collapsed": true
   },
   "outputs": [],
   "source": [
    "X_train, y_train=readData(TRAIN_SET, flatten=True, discrete=False)\n",
    "X_train = np.array(X_train)\n",
    "y_train = np.array(y_train)\n",
    "\n",
    "X_test, y_test=readData(TEST_SET, flatten=True, discrete=False)\n",
    "X_test = np.array(X_test)\n",
    "y_test = np.array(y_test)"
   ]
  },
  {
   "cell_type": "markdown",
   "metadata": {},
   "source": [
    "## Hyperparameter search"
   ]
  },
  {
   "cell_type": "code",
   "execution_count": 3,
   "metadata": {
    "collapsed": true
   },
   "outputs": [],
   "source": [
    "lr_param_grid = {\n",
    "    'C': [1e-2, 3e-2, 1e-1, 3e-1, 1.0],\n",
    "    'solver': ['newton-cg', 'lbfgs', 'liblinear'],\n",
    "}"
   ]
  },
  {
   "cell_type": "code",
   "execution_count": 4,
   "metadata": {},
   "outputs": [
    {
     "name": "stdout",
     "output_type": "stream",
     "text": [
      "Best hyperparameter setting: {'C': 0.3, 'solver': 'lbfgs'}\n",
      "Best cv score: 0.947058, standard deviation: 0.003233\n"
     ]
    }
   ],
   "source": [
    "from sklearn.model_selection import GridSearchCV\n",
    "\n",
    "#Grid search with 5-fold cross-validation\n",
    "clf = GridSearchCV(estimator=LogisticRegression(), cv=5, param_grid=lr_param_grid, scoring='accuracy')\n",
    "clf.fit(X_train, y_train)\n",
    "\n",
    "best_clf_index = np.argmax(clf.cv_results_['mean_test_score'])\n",
    "best_clf_score = clf.cv_results_['mean_test_score'][best_clf_index]\n",
    "best_clf_std =clf.cv_results_['std_test_score'][best_clf_index]\n",
    "    \n",
    "estimator = clf.best_estimator_\n",
    "\n",
    "print(\"Best hyperparameter setting: {}\".format(clf.best_params_))\n",
    "print(\"Best cv score: {:f}, standard deviation: {:f}\".format(best_clf_score, best_clf_std))"
   ]
  },
  {
   "cell_type": "markdown",
   "metadata": {},
   "source": [
    "## Evaluate on the test set"
   ]
  },
  {
   "cell_type": "code",
   "execution_count": 5,
   "metadata": {
    "scrolled": true
   },
   "outputs": [
    {
     "name": "stdout",
     "output_type": "stream",
     "text": [
      "0.913303437967\n"
     ]
    }
   ],
   "source": [
    "score = estimator.score(X_test, y_test)\n",
    "print(score)"
   ]
  },
  {
   "cell_type": "code",
   "execution_count": 9,
   "metadata": {},
   "outputs": [
    {
     "name": "stdout",
     "output_type": "stream",
     "text": [
      "LogisticRegression(C=0.3, class_weight=None, dual=False, fit_intercept=True,\n",
      "          intercept_scaling=1, max_iter=100, multi_class='ovr', n_jobs=1,\n",
      "          penalty='l2', random_state=None, solver='lbfgs', tol=0.0001,\n",
      "          verbose=0, warm_start=False)\n"
     ]
    }
   ],
   "source": [
    "print(estimator)"
   ]
  }
 ],
 "metadata": {
  "kernelspec": {
   "display_name": "Python 3",
   "language": "python",
   "name": "python3"
  },
  "language_info": {
   "codemirror_mode": {
    "name": "ipython",
    "version": 3
   },
   "file_extension": ".py",
   "mimetype": "text/x-python",
   "name": "python",
   "nbconvert_exporter": "python",
   "pygments_lexer": "ipython3",
   "version": "3.6.3"
  }
 },
 "nbformat": 4,
 "nbformat_minor": 2
}
